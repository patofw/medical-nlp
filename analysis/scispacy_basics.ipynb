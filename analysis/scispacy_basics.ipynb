{
 "cells": [
  {
   "cell_type": "code",
   "execution_count": 1,
   "metadata": {},
   "outputs": [
    {
     "name": "stderr",
     "output_type": "stream",
     "text": [
      "/Users/kdlx593/miniconda3/envs/medical_nlp/lib/python3.12/site-packages/spacy/language.py:2195: FutureWarning: Possible set union at position 6328\n",
      "  deserializers[\"tokenizer\"] = lambda p: self.tokenizer.from_disk(  # type: ignore[union-attr]\n"
     ]
    }
   ],
   "source": [
    "import spacy\n",
    "\n",
    "# Load the model\n",
    "nlp = spacy.load(\"en_core_sci_md\")\n",
    "\n"
   ]
  },
  {
   "cell_type": "code",
   "execution_count": 2,
   "metadata": {},
   "outputs": [],
   "source": [
    "text: str = \"Alterations in the hypocretin receptor 2 and preprohypocretin genes produce narcolepsy in people.\"\n",
    "# add multiple NLP based attributes and methods to the text\n",
    "doc = nlp(text)"
   ]
  },
  {
   "cell_type": "code",
   "execution_count": 3,
   "metadata": {},
   "outputs": [
    {
     "name": "stdout",
     "output_type": "stream",
     "text": [
      "Alterations -> alteration NOUN NNS nsubj Xxxxx\n",
      "hypocretin -> hypocretin NOUN NN compound xxxx\n",
      "receptor -> receptor NOUN NN nmod xxxx\n",
      "2 -> 2 NUM CD nummod d\n",
      "preprohypocretin -> preprohypocretin NOUN NN conj xxxx\n",
      "genes -> gene NOUN NNS dep xxxx\n",
      "produce -> produce VERB VBP ROOT xxxx\n",
      "narcolepsy -> narcolepsy NOUN NN dobj xxxx\n",
      "people -> people NOUN NNS nmod xxxx\n",
      ". -> . PUNCT . punct .\n"
     ]
    }
   ],
   "source": [
    "# For example we now have the options to\n",
    "# identify if a words is a stopword or not.\n",
    "# use spacy's lemmatizer, get the Part of Speech of the word.\n",
    "# as well as any dependency\n",
    "for token in doc:\n",
    "    if not token.is_stop:\n",
    "        print(\n",
    "            token.text, \"->\", token.lemma_, token.pos_, token.tag_, token.dep_,\n",
    "            token.shape_\n",
    "        )"
   ]
  },
  {
   "cell_type": "code",
   "execution_count": 4,
   "metadata": {},
   "outputs": [
    {
     "data": {
      "text/html": [
       "<span class=\"tex2jax_ignore\"><svg xmlns=\"http://www.w3.org/2000/svg\" xmlns:xlink=\"http://www.w3.org/1999/xlink\" xml:lang=\"en\" id=\"21dc225a1dc3439fac0f7c33bbe7aa37-0\" class=\"displacy\" width=\"2325\" height=\"574.5\" direction=\"ltr\" style=\"max-width: none; height: 574.5px; color: #000000; background: #ffffff; font-family: Arial; direction: ltr\">\n",
       "<text class=\"displacy-token\" fill=\"currentColor\" text-anchor=\"middle\" y=\"484.5\">\n",
       "    <tspan class=\"displacy-word\" fill=\"currentColor\" x=\"50\">Alterations</tspan>\n",
       "    <tspan class=\"displacy-tag\" dy=\"2em\" fill=\"currentColor\" x=\"50\">NOUN</tspan>\n",
       "</text>\n",
       "\n",
       "<text class=\"displacy-token\" fill=\"currentColor\" text-anchor=\"middle\" y=\"484.5\">\n",
       "    <tspan class=\"displacy-word\" fill=\"currentColor\" x=\"225\">in</tspan>\n",
       "    <tspan class=\"displacy-tag\" dy=\"2em\" fill=\"currentColor\" x=\"225\">ADP</tspan>\n",
       "</text>\n",
       "\n",
       "<text class=\"displacy-token\" fill=\"currentColor\" text-anchor=\"middle\" y=\"484.5\">\n",
       "    <tspan class=\"displacy-word\" fill=\"currentColor\" x=\"400\">the</tspan>\n",
       "    <tspan class=\"displacy-tag\" dy=\"2em\" fill=\"currentColor\" x=\"400\">DET</tspan>\n",
       "</text>\n",
       "\n",
       "<text class=\"displacy-token\" fill=\"currentColor\" text-anchor=\"middle\" y=\"484.5\">\n",
       "    <tspan class=\"displacy-word\" fill=\"currentColor\" x=\"575\">hypocretin</tspan>\n",
       "    <tspan class=\"displacy-tag\" dy=\"2em\" fill=\"currentColor\" x=\"575\">NOUN</tspan>\n",
       "</text>\n",
       "\n",
       "<text class=\"displacy-token\" fill=\"currentColor\" text-anchor=\"middle\" y=\"484.5\">\n",
       "    <tspan class=\"displacy-word\" fill=\"currentColor\" x=\"750\">receptor</tspan>\n",
       "    <tspan class=\"displacy-tag\" dy=\"2em\" fill=\"currentColor\" x=\"750\">NOUN</tspan>\n",
       "</text>\n",
       "\n",
       "<text class=\"displacy-token\" fill=\"currentColor\" text-anchor=\"middle\" y=\"484.5\">\n",
       "    <tspan class=\"displacy-word\" fill=\"currentColor\" x=\"925\">2</tspan>\n",
       "    <tspan class=\"displacy-tag\" dy=\"2em\" fill=\"currentColor\" x=\"925\">NUM</tspan>\n",
       "</text>\n",
       "\n",
       "<text class=\"displacy-token\" fill=\"currentColor\" text-anchor=\"middle\" y=\"484.5\">\n",
       "    <tspan class=\"displacy-word\" fill=\"currentColor\" x=\"1100\">and</tspan>\n",
       "    <tspan class=\"displacy-tag\" dy=\"2em\" fill=\"currentColor\" x=\"1100\">CCONJ</tspan>\n",
       "</text>\n",
       "\n",
       "<text class=\"displacy-token\" fill=\"currentColor\" text-anchor=\"middle\" y=\"484.5\">\n",
       "    <tspan class=\"displacy-word\" fill=\"currentColor\" x=\"1275\">preprohypocretin</tspan>\n",
       "    <tspan class=\"displacy-tag\" dy=\"2em\" fill=\"currentColor\" x=\"1275\">NOUN</tspan>\n",
       "</text>\n",
       "\n",
       "<text class=\"displacy-token\" fill=\"currentColor\" text-anchor=\"middle\" y=\"484.5\">\n",
       "    <tspan class=\"displacy-word\" fill=\"currentColor\" x=\"1450\">genes</tspan>\n",
       "    <tspan class=\"displacy-tag\" dy=\"2em\" fill=\"currentColor\" x=\"1450\">NOUN</tspan>\n",
       "</text>\n",
       "\n",
       "<text class=\"displacy-token\" fill=\"currentColor\" text-anchor=\"middle\" y=\"484.5\">\n",
       "    <tspan class=\"displacy-word\" fill=\"currentColor\" x=\"1625\">produce</tspan>\n",
       "    <tspan class=\"displacy-tag\" dy=\"2em\" fill=\"currentColor\" x=\"1625\">VERB</tspan>\n",
       "</text>\n",
       "\n",
       "<text class=\"displacy-token\" fill=\"currentColor\" text-anchor=\"middle\" y=\"484.5\">\n",
       "    <tspan class=\"displacy-word\" fill=\"currentColor\" x=\"1800\">narcolepsy</tspan>\n",
       "    <tspan class=\"displacy-tag\" dy=\"2em\" fill=\"currentColor\" x=\"1800\">NOUN</tspan>\n",
       "</text>\n",
       "\n",
       "<text class=\"displacy-token\" fill=\"currentColor\" text-anchor=\"middle\" y=\"484.5\">\n",
       "    <tspan class=\"displacy-word\" fill=\"currentColor\" x=\"1975\">in</tspan>\n",
       "    <tspan class=\"displacy-tag\" dy=\"2em\" fill=\"currentColor\" x=\"1975\">ADP</tspan>\n",
       "</text>\n",
       "\n",
       "<text class=\"displacy-token\" fill=\"currentColor\" text-anchor=\"middle\" y=\"484.5\">\n",
       "    <tspan class=\"displacy-word\" fill=\"currentColor\" x=\"2150\">people.</tspan>\n",
       "    <tspan class=\"displacy-tag\" dy=\"2em\" fill=\"currentColor\" x=\"2150\">NOUN</tspan>\n",
       "</text>\n",
       "\n",
       "<g class=\"displacy-arrow\">\n",
       "    <path class=\"displacy-arc\" id=\"arrow-21dc225a1dc3439fac0f7c33bbe7aa37-0-0\" stroke-width=\"2px\" d=\"M70,439.5 C70,2.0 1625.0,2.0 1625.0,439.5\" fill=\"none\" stroke=\"currentColor\"/>\n",
       "    <text dy=\"1.25em\" style=\"font-size: 0.8em; letter-spacing: 1px\">\n",
       "        <textPath xlink:href=\"#arrow-21dc225a1dc3439fac0f7c33bbe7aa37-0-0\" class=\"displacy-label\" startOffset=\"50%\" side=\"left\" fill=\"currentColor\" text-anchor=\"middle\">nsubj</textPath>\n",
       "    </text>\n",
       "    <path class=\"displacy-arrowhead\" d=\"M70,441.5 L62,429.5 78,429.5\" fill=\"currentColor\"/>\n",
       "</g>\n",
       "\n",
       "<g class=\"displacy-arrow\">\n",
       "    <path class=\"displacy-arc\" id=\"arrow-21dc225a1dc3439fac0f7c33bbe7aa37-0-1\" stroke-width=\"2px\" d=\"M245,439.5 C245,177.0 740.0,177.0 740.0,439.5\" fill=\"none\" stroke=\"currentColor\"/>\n",
       "    <text dy=\"1.25em\" style=\"font-size: 0.8em; letter-spacing: 1px\">\n",
       "        <textPath xlink:href=\"#arrow-21dc225a1dc3439fac0f7c33bbe7aa37-0-1\" class=\"displacy-label\" startOffset=\"50%\" side=\"left\" fill=\"currentColor\" text-anchor=\"middle\">case</textPath>\n",
       "    </text>\n",
       "    <path class=\"displacy-arrowhead\" d=\"M245,441.5 L237,429.5 253,429.5\" fill=\"currentColor\"/>\n",
       "</g>\n",
       "\n",
       "<g class=\"displacy-arrow\">\n",
       "    <path class=\"displacy-arc\" id=\"arrow-21dc225a1dc3439fac0f7c33bbe7aa37-0-2\" stroke-width=\"2px\" d=\"M420,439.5 C420,264.5 735.0,264.5 735.0,439.5\" fill=\"none\" stroke=\"currentColor\"/>\n",
       "    <text dy=\"1.25em\" style=\"font-size: 0.8em; letter-spacing: 1px\">\n",
       "        <textPath xlink:href=\"#arrow-21dc225a1dc3439fac0f7c33bbe7aa37-0-2\" class=\"displacy-label\" startOffset=\"50%\" side=\"left\" fill=\"currentColor\" text-anchor=\"middle\">det</textPath>\n",
       "    </text>\n",
       "    <path class=\"displacy-arrowhead\" d=\"M420,441.5 L412,429.5 428,429.5\" fill=\"currentColor\"/>\n",
       "</g>\n",
       "\n",
       "<g class=\"displacy-arrow\">\n",
       "    <path class=\"displacy-arc\" id=\"arrow-21dc225a1dc3439fac0f7c33bbe7aa37-0-3\" stroke-width=\"2px\" d=\"M595,439.5 C595,352.0 730.0,352.0 730.0,439.5\" fill=\"none\" stroke=\"currentColor\"/>\n",
       "    <text dy=\"1.25em\" style=\"font-size: 0.8em; letter-spacing: 1px\">\n",
       "        <textPath xlink:href=\"#arrow-21dc225a1dc3439fac0f7c33bbe7aa37-0-3\" class=\"displacy-label\" startOffset=\"50%\" side=\"left\" fill=\"currentColor\" text-anchor=\"middle\">compound</textPath>\n",
       "    </text>\n",
       "    <path class=\"displacy-arrowhead\" d=\"M595,441.5 L587,429.5 603,429.5\" fill=\"currentColor\"/>\n",
       "</g>\n",
       "\n",
       "<g class=\"displacy-arrow\">\n",
       "    <path class=\"displacy-arc\" id=\"arrow-21dc225a1dc3439fac0f7c33bbe7aa37-0-4\" stroke-width=\"2px\" d=\"M70,439.5 C70,89.5 745.0,89.5 745.0,439.5\" fill=\"none\" stroke=\"currentColor\"/>\n",
       "    <text dy=\"1.25em\" style=\"font-size: 0.8em; letter-spacing: 1px\">\n",
       "        <textPath xlink:href=\"#arrow-21dc225a1dc3439fac0f7c33bbe7aa37-0-4\" class=\"displacy-label\" startOffset=\"50%\" side=\"left\" fill=\"currentColor\" text-anchor=\"middle\">nmod</textPath>\n",
       "    </text>\n",
       "    <path class=\"displacy-arrowhead\" d=\"M745.0,441.5 L753.0,429.5 737.0,429.5\" fill=\"currentColor\"/>\n",
       "</g>\n",
       "\n",
       "<g class=\"displacy-arrow\">\n",
       "    <path class=\"displacy-arc\" id=\"arrow-21dc225a1dc3439fac0f7c33bbe7aa37-0-5\" stroke-width=\"2px\" d=\"M770,439.5 C770,352.0 905.0,352.0 905.0,439.5\" fill=\"none\" stroke=\"currentColor\"/>\n",
       "    <text dy=\"1.25em\" style=\"font-size: 0.8em; letter-spacing: 1px\">\n",
       "        <textPath xlink:href=\"#arrow-21dc225a1dc3439fac0f7c33bbe7aa37-0-5\" class=\"displacy-label\" startOffset=\"50%\" side=\"left\" fill=\"currentColor\" text-anchor=\"middle\">nummod</textPath>\n",
       "    </text>\n",
       "    <path class=\"displacy-arrowhead\" d=\"M905.0,441.5 L913.0,429.5 897.0,429.5\" fill=\"currentColor\"/>\n",
       "</g>\n",
       "\n",
       "<g class=\"displacy-arrow\">\n",
       "    <path class=\"displacy-arc\" id=\"arrow-21dc225a1dc3439fac0f7c33bbe7aa37-0-6\" stroke-width=\"2px\" d=\"M770,439.5 C770,264.5 1085.0,264.5 1085.0,439.5\" fill=\"none\" stroke=\"currentColor\"/>\n",
       "    <text dy=\"1.25em\" style=\"font-size: 0.8em; letter-spacing: 1px\">\n",
       "        <textPath xlink:href=\"#arrow-21dc225a1dc3439fac0f7c33bbe7aa37-0-6\" class=\"displacy-label\" startOffset=\"50%\" side=\"left\" fill=\"currentColor\" text-anchor=\"middle\">cc</textPath>\n",
       "    </text>\n",
       "    <path class=\"displacy-arrowhead\" d=\"M1085.0,441.5 L1093.0,429.5 1077.0,429.5\" fill=\"currentColor\"/>\n",
       "</g>\n",
       "\n",
       "<g class=\"displacy-arrow\">\n",
       "    <path class=\"displacy-arc\" id=\"arrow-21dc225a1dc3439fac0f7c33bbe7aa37-0-7\" stroke-width=\"2px\" d=\"M770,439.5 C770,177.0 1265.0,177.0 1265.0,439.5\" fill=\"none\" stroke=\"currentColor\"/>\n",
       "    <text dy=\"1.25em\" style=\"font-size: 0.8em; letter-spacing: 1px\">\n",
       "        <textPath xlink:href=\"#arrow-21dc225a1dc3439fac0f7c33bbe7aa37-0-7\" class=\"displacy-label\" startOffset=\"50%\" side=\"left\" fill=\"currentColor\" text-anchor=\"middle\">conj</textPath>\n",
       "    </text>\n",
       "    <path class=\"displacy-arrowhead\" d=\"M1265.0,441.5 L1273.0,429.5 1257.0,429.5\" fill=\"currentColor\"/>\n",
       "</g>\n",
       "\n",
       "<g class=\"displacy-arrow\">\n",
       "    <path class=\"displacy-arc\" id=\"arrow-21dc225a1dc3439fac0f7c33bbe7aa37-0-8\" stroke-width=\"2px\" d=\"M770,439.5 C770,89.5 1445.0,89.5 1445.0,439.5\" fill=\"none\" stroke=\"currentColor\"/>\n",
       "    <text dy=\"1.25em\" style=\"font-size: 0.8em; letter-spacing: 1px\">\n",
       "        <textPath xlink:href=\"#arrow-21dc225a1dc3439fac0f7c33bbe7aa37-0-8\" class=\"displacy-label\" startOffset=\"50%\" side=\"left\" fill=\"currentColor\" text-anchor=\"middle\">dep</textPath>\n",
       "    </text>\n",
       "    <path class=\"displacy-arrowhead\" d=\"M1445.0,441.5 L1453.0,429.5 1437.0,429.5\" fill=\"currentColor\"/>\n",
       "</g>\n",
       "\n",
       "<g class=\"displacy-arrow\">\n",
       "    <path class=\"displacy-arc\" id=\"arrow-21dc225a1dc3439fac0f7c33bbe7aa37-0-9\" stroke-width=\"2px\" d=\"M1645,439.5 C1645,352.0 1780.0,352.0 1780.0,439.5\" fill=\"none\" stroke=\"currentColor\"/>\n",
       "    <text dy=\"1.25em\" style=\"font-size: 0.8em; letter-spacing: 1px\">\n",
       "        <textPath xlink:href=\"#arrow-21dc225a1dc3439fac0f7c33bbe7aa37-0-9\" class=\"displacy-label\" startOffset=\"50%\" side=\"left\" fill=\"currentColor\" text-anchor=\"middle\">dobj</textPath>\n",
       "    </text>\n",
       "    <path class=\"displacy-arrowhead\" d=\"M1780.0,441.5 L1788.0,429.5 1772.0,429.5\" fill=\"currentColor\"/>\n",
       "</g>\n",
       "\n",
       "<g class=\"displacy-arrow\">\n",
       "    <path class=\"displacy-arc\" id=\"arrow-21dc225a1dc3439fac0f7c33bbe7aa37-0-10\" stroke-width=\"2px\" d=\"M1995,439.5 C1995,352.0 2130.0,352.0 2130.0,439.5\" fill=\"none\" stroke=\"currentColor\"/>\n",
       "    <text dy=\"1.25em\" style=\"font-size: 0.8em; letter-spacing: 1px\">\n",
       "        <textPath xlink:href=\"#arrow-21dc225a1dc3439fac0f7c33bbe7aa37-0-10\" class=\"displacy-label\" startOffset=\"50%\" side=\"left\" fill=\"currentColor\" text-anchor=\"middle\">case</textPath>\n",
       "    </text>\n",
       "    <path class=\"displacy-arrowhead\" d=\"M1995,441.5 L1987,429.5 2003,429.5\" fill=\"currentColor\"/>\n",
       "</g>\n",
       "\n",
       "<g class=\"displacy-arrow\">\n",
       "    <path class=\"displacy-arc\" id=\"arrow-21dc225a1dc3439fac0f7c33bbe7aa37-0-11\" stroke-width=\"2px\" d=\"M1645,439.5 C1645,264.5 2135.0,264.5 2135.0,439.5\" fill=\"none\" stroke=\"currentColor\"/>\n",
       "    <text dy=\"1.25em\" style=\"font-size: 0.8em; letter-spacing: 1px\">\n",
       "        <textPath xlink:href=\"#arrow-21dc225a1dc3439fac0f7c33bbe7aa37-0-11\" class=\"displacy-label\" startOffset=\"50%\" side=\"left\" fill=\"currentColor\" text-anchor=\"middle\">nmod</textPath>\n",
       "    </text>\n",
       "    <path class=\"displacy-arrowhead\" d=\"M2135.0,441.5 L2143.0,429.5 2127.0,429.5\" fill=\"currentColor\"/>\n",
       "</g>\n",
       "</svg></span>"
      ],
      "text/plain": [
       "<IPython.core.display.HTML object>"
      ]
     },
     "metadata": {},
     "output_type": "display_data"
    }
   ],
   "source": [
    "spacy.displacy.render(next(doc.sents), style='dep', jupyter=True)"
   ]
  },
  {
   "cell_type": "markdown",
   "metadata": {},
   "source": [
    "## Word and text similarity\n",
    "\n",
    "Text similarity has been primordial in NLP since its beginning and even with the great advancements in GenAI, the methods used to semantically compare words and sentences mainly rely in vector operations and \"distance\" metrics. For example, we know that `shark` and `whale` are more closely related to each other than `shark` and `computer`. Likewise, with modern language models (Word2Vec, transformers, etc.) we can mathematically represent this. Usually, using a common distance metric like euclidean distance or cosine similarity. Let's give it a try."
   ]
  },
  {
   "cell_type": "code",
   "execution_count": 5,
   "metadata": {},
   "outputs": [
    {
     "name": "stdout",
     "output_type": "stream",
     "text": [
      "Similarity Shark and Whale: 0.6170432650693893\n",
      "\n",
      "Similarity Shark and Computer: -0.021838123446266868\n"
     ]
    }
   ],
   "source": [
    "# let's compare words\n",
    "text1 = \"shark\"\n",
    "text2 = \"whale\"\n",
    "text3 = \"computer\"\n",
    "\n",
    "print(\n",
    "    \"Similarity Shark and Whale:\",\n",
    "    nlp(text1).similarity(nlp(text2))\n",
    ")\n",
    "print()\n",
    "print(\n",
    "    \"Similarity Shark and Computer:\",\n",
    "    nlp(text1).similarity(nlp(text3))\n",
    ")\n"
   ]
  },
  {
   "cell_type": "code",
   "execution_count": 6,
   "metadata": {},
   "outputs": [
    {
     "data": {
      "text/plain": [
       "0.8859446651287843"
      ]
     },
     "execution_count": 6,
     "metadata": {},
     "output_type": "execute_result"
    }
   ],
   "source": [
    "# We can do the same with senteces (Spacy uses vector avg to compare sentences)\n",
    "text1 = \"Tylenol is used to treat headaches\"\n",
    "text2 = \"Ibuprofen is used to alleviate migraines\"\n",
    "\n",
    "nlp(text1).similarity(nlp(text2))"
   ]
  },
  {
   "cell_type": "code",
   "execution_count": 7,
   "metadata": {},
   "outputs": [
    {
     "name": "stdout",
     "output_type": "stream",
     "text": [
      "[-0.171301    0.269838   -0.292422    0.0969225   0.136634    0.0206791\n",
      "  0.0343716   0.0241368  -0.230707   -0.142368   -0.23499    -0.434152\n",
      "  0.40165     0.0404615   0.0620943   0.0411679  -0.358663    0.0899282\n",
      "  0.0299107  -0.0770028  -0.211768   -0.217445   -0.203516   -0.0142091\n",
      " -0.0280481  -0.0351675  -0.0528551  -0.0698697   0.242176    0.152152\n",
      "  0.129039   -0.035838   -0.0370982   0.102662   -0.0889819  -0.297025\n",
      "  0.103937   -0.379597   -0.192684   -0.155296    0.0952904   0.0775943\n",
      " -0.133239    0.569135    0.193671   -0.270392   -0.0330474   0.156962\n",
      " -0.258426    0.0191769   0.193796   -0.0620198   0.242538   -0.0606925\n",
      " -0.0176757   0.063728    0.420112    0.217779    0.232284   -0.279989\n",
      "  0.140984   -0.272254   -0.00408003 -0.233878    0.068528    0.351945\n",
      "  0.210733   -0.198874    0.326534   -0.199128   -0.320544    0.329174\n",
      "  0.252536    0.00751772 -0.0430318   0.339309    0.242522    0.15602\n",
      " -0.224425   -0.0316276   0.0804329   0.61901    -0.288737    0.270565\n",
      " -0.109633   -0.113106   -0.227701   -0.101029    0.200668    0.0354985\n",
      " -0.336415    0.244507   -0.166377   -0.047049   -0.0026439  -0.0874521\n",
      " -0.179007    0.16129     0.166442    0.090162    0.211289   -0.0571278\n",
      " -0.224777   -0.169872    0.236235    0.0828997  -0.0332265  -0.0707428\n",
      " -0.182054   -0.0170981  -0.0918858  -0.194788   -0.21893     0.141896\n",
      "  0.163174    0.0191105   0.591925    0.0670726   0.410065   -0.0135891\n",
      "  0.0142136  -0.169702   -0.0482426  -0.033391   -0.319004   -0.154099\n",
      " -0.0134075  -0.197839   -0.545237    0.0513803  -0.184012    0.108286\n",
      " -0.0879674   0.0684521  -0.432711   -0.136243   -0.203916    0.319129\n",
      "  0.0452341   0.162977   -0.0921446  -0.150534    0.148537    0.276577\n",
      " -0.240678    0.0916356   0.149608   -0.0888792   0.223406   -0.13999\n",
      "  0.343898    0.162105    0.0564701  -0.300199   -0.131854   -0.108197\n",
      " -0.0539606  -0.163891    0.219721   -0.0261487  -0.0277949   0.397256\n",
      " -0.0549697  -0.18915     0.0190058  -0.0837283  -0.0104231   0.0256449\n",
      "  0.212539   -0.350657   -0.00679525 -0.18333    -0.055895   -0.138498\n",
      " -0.566545    0.193678   -0.0172913   0.0524155   0.217666    0.0107936\n",
      " -0.0176941   0.268449   -0.129661    0.102309   -0.0458807  -0.0579747\n",
      " -0.321778   -0.131091    0.161644   -0.350558   -0.282879   -0.0200207\n",
      "  0.21178     0.0386402   0.187183    0.286901   -0.00702957  0.298162\n",
      " -0.264332   -0.506493  ]\n"
     ]
    }
   ],
   "source": [
    "# Get the Vector representation \n",
    "word: str = \"melanoma\"\n",
    "word_id = nlp.vocab.strings[word]\n",
    "word_vector = nlp.vocab.vectors[word_id]\n",
    "print(word_vector)"
   ]
  },
  {
   "cell_type": "markdown",
   "metadata": {},
   "source": [
    "## Spacy's Pipelines\n",
    "\n",
    "However, I would say Spacy's greatest feature is its capacity to create a Pipe (pipeline) with multiple transformations. It allows you to set up an elaborate pre-processing pipeline to efficiently clean, tag and analyse your text input. For example: \n"
   ]
  },
  {
   "cell_type": "code",
   "execution_count": 23,
   "metadata": {},
   "outputs": [],
   "source": [
    "import pandas as pd\n",
    "from time import time  # Medir tiempo de ejecucion\n",
    "\n",
    "\n",
    "data_path : str = \"../data/mtsamples.csv\"\n",
    "df = pd.read_csv(data_path)\n",
    "# let's pick the first 50 transcriptions as example \n",
    "transcriptions = df[\"transcription\"].dropna()[:50]"
   ]
  },
  {
   "cell_type": "code",
   "execution_count": 20,
   "metadata": {},
   "outputs": [],
   "source": [
    "\n",
    "def cleaning(doc) -> str:\n",
    "    \"\"\"Simple cleaning pipeline using Spacy.\n",
    "\n",
    "    Lemmatize and eliminates stopwords\n",
    "    Args:\n",
    "        doc (spacy.tokens.doc.Doc): Document processed by spacy's pipeline\n",
    "    Returns:\n",
    "        str: Processed String.\n",
    "    \"\"\"\n",
    "    txt = [\n",
    "      token.lemma_ for token in doc if not token.is_stop and token.is_alpha\n",
    "    ]\n",
    "    return ' '.join(txt)\n"
   ]
  },
  {
   "cell_type": "code",
   "execution_count": 21,
   "metadata": {},
   "outputs": [
    {
     "data": {
      "text/plain": [
       "'alteration hypocretin receptor preprohypocretin gene produce narcolepsy people'"
      ]
     },
     "execution_count": 21,
     "metadata": {},
     "output_type": "execute_result"
    }
   ],
   "source": [
    "# Example in a short sentence\n",
    "text: str = \"Alterations in the Hypocretin receptor 2 and preprohypocretin genes produce narcolepsy in people.\"\n",
    "cleaning(nlp(text))"
   ]
  },
  {
   "cell_type": "code",
   "execution_count": 27,
   "metadata": {},
   "outputs": [
    {
     "name": "stdout",
     "output_type": "stream",
     "text": [
      "Execution time: 0.07 mins\n"
     ]
    }
   ],
   "source": [
    "t = time() # let's measure execution time\n",
    "\n",
    "txt = [\n",
    "    cleaning(doc) for doc in nlp.pipe(\n",
    "        transcriptions,\n",
    "        batch_size=20,\n",
    "        n_process=1\n",
    "    )\n",
    "]\n",
    "# medimos tiempo de ejecución \n",
    "t_ = round((time() - t) / 60, 2)  # seconds needed to run\n",
    "print(f'Execution time: {t_} mins')"
   ]
  },
  {
   "cell_type": "code",
   "execution_count": 24,
   "metadata": {},
   "outputs": [
    {
     "name": "stdout",
     "output_type": "stream",
     "text": [
      "Execution time: 0.07 mins\n"
     ]
    }
   ],
   "source": [
    "t = time() # let's measure execution time\n",
    "\n",
    "txt = [\n",
    "    cleaning(nlp(doc)) for doc in transcriptions\n",
    "]\n",
    "# medimos tiempo de ejecución \n",
    "t_ = round((time() - t) / 60, 2)  # seconds needed to run\n",
    "print(f'Execution time: {t_} mins')"
   ]
  },
  {
   "cell_type": "code",
   "execution_count": null,
   "metadata": {},
   "outputs": [],
   "source": []
  }
 ],
 "metadata": {
  "kernelspec": {
   "display_name": "medical_nlp",
   "language": "python",
   "name": "python3"
  },
  "language_info": {
   "codemirror_mode": {
    "name": "ipython",
    "version": 3
   },
   "file_extension": ".py",
   "mimetype": "text/x-python",
   "name": "python",
   "nbconvert_exporter": "python",
   "pygments_lexer": "ipython3",
   "version": "3.12.0"
  }
 },
 "nbformat": 4,
 "nbformat_minor": 2
}
